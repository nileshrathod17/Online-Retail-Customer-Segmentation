{
  "nbformat": 4,
  "nbformat_minor": 0,
  "metadata": {
    "colab": {
      "name": "Customer Segmentation for Online Retail store.ipynb",
      "provenance": [],
      "authorship_tag": "ABX9TyOP/2NPKK0MDwk54yM46Pyy",
      "include_colab_link": true
    },
    "kernelspec": {
      "name": "python3",
      "display_name": "Python 3"
    },
    "language_info": {
      "name": "python"
    }
  },
  "cells": [
    {
      "cell_type": "markdown",
      "metadata": {
        "id": "view-in-github",
        "colab_type": "text"
      },
      "source": [
        "<a href=\"https://colab.research.google.com/github/nileshrathod17/Online-Retail-Customer-Segmentation/blob/main/Customer_Segmentation_for_Online_Retail_store.ipynb\" target=\"_parent\"><img src=\"https://colab.research.google.com/assets/colab-badge.svg\" alt=\"Open In Colab\"/></a>"
      ]
    },
    {
      "cell_type": "code",
      "execution_count": null,
      "metadata": {
        "id": "DxhGCO3rVbvJ"
      },
      "outputs": [],
      "source": [
        ""
      ]
    },
    {
      "cell_type": "markdown",
      "source": [
        "# **Customer Segmentation for Online Retail store**\n",
        "\n",
        "We endeavour to find the various customer segments using the online retail store's transaction data obtained from UCI Machine Learning Dataset repository. This is a transnational data set which contains all the transactions occurring between 01/12/2010 and 09/12/2011 for a UK-based and registered non-store online retail.\n",
        "\n",
        "**The need of customer segmentation:**\n",
        "\n",
        "The differences in customers' behaviour, demographics, geographies, etc. help in classifying them in groups. Learning about different groups in the customer can help with following:\n",
        "\n",
        "Target Marketing\n",
        "\n",
        "Client understanding\n",
        "\n",
        "Optimal product placement\n",
        "\n",
        "Searching for new customers\n",
        "\n",
        "Revenue growth\n",
        "\n",
        "**Recency-Frequency-Monetary (RFM) model to determine customer value:**\n",
        "\n",
        "The RFM model is quite useful model in retail customer segmentation where only the data of customer transaction is available. RFM stands for the three dimensions:\n",
        "\n",
        "Recency – How recently did the customer purchase?\n",
        "\n",
        "Frequency – How often do they purchase?\n",
        "\n",
        "Monetary Value – How much do they spend?\n",
        "\n",
        "A combination of these three attributes can be defined to assign a quantitative value to customers. e.g. A customer who recently bought high value products and transacts regularly is a high value customer."
      ],
      "metadata": {
        "id": "HLk3XjKbVnbD"
      }
    },
    {
      "cell_type": "code",
      "source": [
        "#Load all the required packages\n",
        "import pandas as pd\n",
        "import numpy as np\n",
        "import datetime\n",
        "import math\n",
        "import matplotlib.pyplot as plt\n",
        "import matplotlib.mlab as mlab\n",
        "from sklearn import preprocessing\n",
        "from sklearn.cluster import KMeans\n",
        "from sklearn.metrics import silhouette_samples, silhouette_score\n",
        "import matplotlib.cm as cm\n",
        "\n",
        "from mpl_toolkits.mplot3d import Axes3D\n",
        "\n",
        "%matplotlib inline"
      ],
      "metadata": {
        "id": "SwYY3mxdV_OY"
      },
      "execution_count": 1,
      "outputs": []
    },
    {
      "cell_type": "markdown",
      "source": [
        "# **1. Import Data**"
      ],
      "metadata": {
        "id": "gvRUGu2pWTDt"
      }
    },
    {
      "cell_type": "code",
      "source": [
        ""
      ],
      "metadata": {
        "id": "Ca8hnxrIWSsV"
      },
      "execution_count": null,
      "outputs": []
    }
  ]
}